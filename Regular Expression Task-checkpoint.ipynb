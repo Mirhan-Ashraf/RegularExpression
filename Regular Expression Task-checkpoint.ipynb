{
 "cells": [
  {
   "cell_type": "code",
   "execution_count": 49,
   "id": "62e721a2",
   "metadata": {
    "ExecuteTime": {
     "end_time": "2022-09-07T02:54:07.832103Z",
     "start_time": "2022-09-07T02:54:07.825137Z"
    }
   },
   "outputs": [
    {
     "name": "stdout",
     "output_type": "stream",
     "text": [
      "['Mirhan Ashraf', 'Rana samir', 'Heba Mahmoud']\n",
      "['01048416036', '01077645891', '01045722204']\n",
      "['merannour@gmail.com', 'rana@gmail.com', 'hebaM@gmail.com']\n"
     ]
    }
   ],
   "source": [
    "import re\n",
    "\n",
    "file = open(\"Data.txt\",\"r\")\n",
    "Data = file.read()\n",
    "\n",
    "# Names\n",
    "\n",
    "PatternNames = re.compile(r\"(?P<first>\\w+) (?P<last>\\w+)\")\n",
    "Names=[]\n",
    "matchesnames = PatternNames.finditer(Data)\n",
    "for match in matchesnames:\n",
    "    Names.append(match.group())\n",
    "print(Names)\n",
    "\n",
    "# PhoneNumbers\n",
    "\n",
    "patternPhoneNum = re.compile(r\"010\\d{8}\")\n",
    "matchesphonenum = patternPhoneNum.finditer(Data)\n",
    "PhoneNumbers = []\n",
    "\n",
    "for match in matchesphonenum:\n",
    "    PhoneNumbers.append(match.group())\n",
    "print(PhoneNumbers) \n",
    "\n",
    "# Emails\n",
    "\n",
    "patternEmails = re.compile(r\"[a-zA-Z]+@[a-zA-Z]+\\.com\")\n",
    "matchesEmails = patternEmails.finditer(Data)\n",
    "Emails = []\n",
    "for match in matchesEmails:\n",
    "    Emails.append(match.group())\n",
    "    \n",
    "print(Emails)"
   ]
  },
  {
   "cell_type": "code",
   "execution_count": null,
   "id": "b59b18f9",
   "metadata": {
    "ExecuteTime": {
     "end_time": "2022-09-07T02:33:52.623709Z",
     "start_time": "2022-09-07T02:33:52.221286Z"
    }
   },
   "outputs": [],
   "source": []
  },
  {
   "cell_type": "code",
   "execution_count": null,
   "id": "276b375e",
   "metadata": {},
   "outputs": [],
   "source": []
  }
 ],
 "metadata": {
  "kernelspec": {
   "display_name": "Python 3 (ipykernel)",
   "language": "python",
   "name": "python3"
  },
  "language_info": {
   "codemirror_mode": {
    "name": "ipython",
    "version": 3
   },
   "file_extension": ".py",
   "mimetype": "text/x-python",
   "name": "python",
   "nbconvert_exporter": "python",
   "pygments_lexer": "ipython3",
   "version": "3.9.12"
  }
 },
 "nbformat": 4,
 "nbformat_minor": 5
}
